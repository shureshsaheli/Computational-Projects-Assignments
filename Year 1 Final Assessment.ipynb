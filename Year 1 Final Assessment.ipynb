{
 "cells": [
  {
   "cell_type": "markdown",
   "metadata": {},
   "source": [
    "# Final Assessment: Angry Birds style game"
   ]
  },
  {
   "cell_type": "markdown",
   "metadata": {},
   "source": [
    "### SN: 19014831"
   ]
  },
  {
   "cell_type": "markdown",
   "metadata": {},
   "source": [
    "## Introduction\n",
    "\n",
    "### Aims\n",
    "\n",
    "In this assignment I will be attempting to make a game with a similar objective to the famous Angry Birds mobile game. The aim of the game is simple- the user will first be shown a particular scenario in which the platform height, on which the projectile is placed, is completely randomised and the target's position along the horizontal axis is also randomised but will be restricted between 5-15 units. The user will then be prompted to enter a **launch angle** and a **launch speed** in order to try and topple the target which is the main objective of the game. Once the launch angle and launch speed are entered, the projectile motion will be modelled according to Newton's equations of motion during its flight path. The equations of motion used for the horizontal and vertical displacements of the projectile with respect to time are stated below in equations (1) and (2) respectively.\n",
    "\n",
    "There are a number of assumptions made in the programming of this game:\n",
    "\n",
    "- The collision between the projectile and the target is assumed to be elastic, therefore all of the energy is transferred from the projectile to the target. \n",
    "- All of the momentum of the ball is transferred to the target.\n",
    "- The rotational point of the target is at the bottom right hand corner of the target, therefore if the target topples, it effectively is rotating around that point.\n",
    "- The equations of motion are used whilst neglecting resistive forces such as air resistance.\n",
    "- The bird is modelled as a spherical object.\n",
    "- The target cannot slide on the ground;\n",
    "- The target has constant density, so that its centre of mass is at the geometric centre of the target.\n",
    "\n",
    "### Gameplay \n",
    "\n",
    "There are a few different outcomes which could occur depending on the initial angle and launch speed entered by the user and these are outlined below.\n",
    "\n",
    "First of all, the bird could hit the target and topple the target. In order to hit the target, the bird will simply have to be in contact with the side of the target and this will cause the bird to transfer all of its energy into the wall and hence fall vertically downwards. Once the bird has come into contact with the target there will be a series of calculations in which the code will calculate the momentum with which the bird collided with the target which is given by equation (3). Furthermore, the force applied will be calculated using equation (4) and from this the impulse the target receives during the collision is given by equation (5). After this, the code calculates the applied torque on the target as a result of the collision and this is given in equation (6). This will be compared to the restoring torque given in equation (7). If the applied torque from the bird is greater than the restoring torque of the target itself, this will cause the target to rotate around the bottom right hand corner of the target until the target is completely horizontal, at which point the rotation is stopped. At the end of the simulation there are a few values printed to justify the toppling. These include:\n",
    "\n",
    "- Height at the point of impact.\n",
    "- Momentum.\n",
    "- Impulse.\n",
    "- Applied Torque.\n",
    "- Restoring Torque.\n",
    "\n",
    "Secondly, the bird could hit the target and not topple the target. Similarly, to the case above, if the bird comes in contact with the wall it will transfer all of its energy into the wall and hence fall vertically downwards. If the restoring torque from the target is greater than the applied torque from the bird, this will cause the target stay upright and not topple. Similarly, the same values as specified above will be displayed.\n",
    "\n",
    "Finally, the bird could just not collide with the target at all and either overshoot or undershoot. Either way, the ball will follow a parabolic path defined using equations (1) and (2) and will land either before the target and hence undershoot, or it will land after the target if it overshoots. There will also be no calculations displayed as there will be no collisions, instead the horizontal distance that the ball travelled will be displayed in a print statement.\n",
    "\n",
    "### Strategies Used\n",
    "\n",
    "The strategies I have used to develop this game mainly include nested `if` and `while ` statements and `conditionals` for example `True` or `False` statements. This allows the animation to be updated- mainly I have chosen a rate of 1000 meaning that the maximum number of times that a specific piece of code is iterated is 1000 times.\n",
    "\n",
    "### Equations used (Dash, 2019)\n",
    "\n",
    "$$x = x_0+v_0tcos(\\theta)\\qquad(1)$$\n",
    "\n",
    "$$y = y_0+v_0tsin(\\theta)\\qquad(2)$$\n",
    "\n",
    "$$Magnitude\\space of\\space Momentum, P = \\sqrt{(M_{bird}v_0cos\\theta)^2 + (M_{bird}v_0sin\\theta-M_{bird}gt)^2}\\qquad(3)$$\n",
    "\n",
    "$$Force\\space Applied, F_a = \\frac{P}{\\Delta t}\\qquad(4)$$\n",
    "\n",
    "$$Impulse = F_a\\Delta t\\qquad(5)$$\n",
    "\n",
    "$$Applied\\space Torque, T_a = F_a \\times d_a \\qquad(6)$$\n",
    "\n",
    "(Where $d_a$ is the vector from the point of rotation (bottom right-hand corner of target to the point of impact on the left-hand side of the target)\n",
    "\n",
    "$$Restoring\\space Torque, T_r = \\frac{1}{4}M_{target}g\\qquad(7)$$\n",
    "\n"
   ]
  },
  {
   "cell_type": "code",
   "execution_count": 1,
   "metadata": {},
   "outputs": [
    {
     "data": {
      "text/html": [
       "<div id=\"glowscript\" class=\"glowscript\"></div>"
      ],
      "text/plain": [
       "<IPython.core.display.HTML object>"
      ]
     },
     "metadata": {},
     "output_type": "display_data"
    },
    {
     "data": {
      "application/javascript": [
       "if (typeof Jupyter !== \"undefined\") { window.__context = { glowscript_container: $(\"#glowscript\").removeAttr(\"id\")};}else{ element.textContent = ' ';}"
      ],
      "text/plain": [
       "<IPython.core.display.Javascript object>"
      ]
     },
     "metadata": {},
     "output_type": "display_data"
    }
   ],
   "source": [
    "#Importing the various vpython modules needed to run this animation\n",
    "import numpy as np\n",
    "from vpython import sphere, color, rate, canvas, vector, curve, label, box, cross, mag, random, arrow"
   ]
  },
  {
   "cell_type": "code",
   "execution_count": 2,
   "metadata": {
    "scrolled": true
   },
   "outputs": [
    {
     "data": {
      "text/html": [
       "<div id=\"glowscript\" class=\"glowscript\"></div>"
      ],
      "text/plain": [
       "<IPython.core.display.HTML object>"
      ]
     },
     "metadata": {},
     "output_type": "display_data"
    },
    {
     "data": {
      "application/javascript": [
       "if (typeof Jupyter !== \"undefined\") { window.__context = { glowscript_container: $(\"#glowscript\").removeAttr(\"id\")};}else{ element.textContent = ' ';}"
      ],
      "text/plain": [
       "<IPython.core.display.Javascript object>"
      ]
     },
     "metadata": {},
     "output_type": "display_data"
    },
    {
     "data": {
      "application/javascript": [
       "if (typeof Jupyter !== \"undefined\") {require.undef(\"nbextensions/vpython_libraries/glow.min\");}else{element.textContent = ' ';}"
      ],
      "text/plain": [
       "<IPython.core.display.Javascript object>"
      ]
     },
     "metadata": {},
     "output_type": "display_data"
    },
    {
     "data": {
      "application/javascript": [
       "if (typeof Jupyter !== \"undefined\") {require.undef(\"nbextensions/vpython_libraries/glowcomm\");}else{element.textContent = ' ';}"
      ],
      "text/plain": [
       "<IPython.core.display.Javascript object>"
      ]
     },
     "metadata": {},
     "output_type": "display_data"
    },
    {
     "data": {
      "application/javascript": [
       "if (typeof Jupyter !== \"undefined\") {require.undef(\"nbextensions/vpython_libraries/jquery-ui.custom.min\");}else{element.textContent = ' ';}"
      ],
      "text/plain": [
       "<IPython.core.display.Javascript object>"
      ]
     },
     "metadata": {},
     "output_type": "display_data"
    },
    {
     "data": {
      "application/javascript": [
       "if (typeof Jupyter !== \"undefined\") {require([\"nbextensions/vpython_libraries/glow.min\"], function(){console.log(\"GLOW LOADED\");});}else{element.textContent = ' ';}"
      ],
      "text/plain": [
       "<IPython.core.display.Javascript object>"
      ]
     },
     "metadata": {},
     "output_type": "display_data"
    },
    {
     "data": {
      "application/javascript": [
       "if (typeof Jupyter !== \"undefined\") {require([\"nbextensions/vpython_libraries/glowcomm\"], function(){console.log(\"GLOWCOMM LOADED\");});}else{element.textContent = ' ';}"
      ],
      "text/plain": [
       "<IPython.core.display.Javascript object>"
      ]
     },
     "metadata": {},
     "output_type": "display_data"
    },
    {
     "data": {
      "application/javascript": [
       "if (typeof Jupyter !== \"undefined\") {require([\"nbextensions/vpython_libraries/jquery-ui.custom.min\"], function(){console.log(\"JQUERY LOADED\");});}else{element.textContent = ' ';}"
      ],
      "text/plain": [
       "<IPython.core.display.Javascript object>"
      ]
     },
     "metadata": {},
     "output_type": "display_data"
    },
    {
     "name": "stdout",
     "output_type": "stream",
     "text": [
      "Input the initial angle in degrees: 2\n",
      "Input the initial velocity in metres/second: 200\n",
      "The height of the impact point is 0.30m.\n",
      "The bird's momentum is 20.00kgm/s.\n",
      "The total impulse delivered is 20.00Ns.\n",
      "The total applied torque is 2184.49N.\n",
      "The total magnitude of the restoring torque 245.25N.\n",
      "Target toppled, you win!\n",
      "Play again? yes\n"
     ]
    },
    {
     "data": {
      "text/html": [
       "<div id=\"glowscript\" class=\"glowscript\"></div>"
      ],
      "text/plain": [
       "<IPython.core.display.HTML object>"
      ]
     },
     "metadata": {},
     "output_type": "display_data"
    },
    {
     "data": {
      "application/javascript": [
       "if (typeof Jupyter !== \"undefined\") { window.__context = { glowscript_container: $(\"#glowscript\").removeAttr(\"id\")};}else{ element.textContent = ' ';}"
      ],
      "text/plain": [
       "<IPython.core.display.Javascript object>"
      ]
     },
     "metadata": {},
     "output_type": "display_data"
    },
    {
     "name": "stdout",
     "output_type": "stream",
     "text": [
      "Input the initial angle in degrees: 2\n",
      "Input the initial velocity in metres/second: 40\n",
      "The height of the impact point is 0.30m.\n",
      "The bird's momentum is 4.00kgm/s.\n",
      "The total impulse delivered is 4.00Ns.\n",
      "The total applied torque is 154.21N.\n",
      "The total magnitude of the restoring torque 245.25N.\n",
      "Target not toppled! Try again.\n",
      "Play again? yes\n"
     ]
    },
    {
     "data": {
      "text/html": [
       "<div id=\"glowscript\" class=\"glowscript\"></div>"
      ],
      "text/plain": [
       "<IPython.core.display.HTML object>"
      ]
     },
     "metadata": {},
     "output_type": "display_data"
    },
    {
     "data": {
      "application/javascript": [
       "if (typeof Jupyter !== \"undefined\") { window.__context = { glowscript_container: $(\"#glowscript\").removeAttr(\"id\")};}else{ element.textContent = ' ';}"
      ],
      "text/plain": [
       "<IPython.core.display.Javascript object>"
      ]
     },
     "metadata": {},
     "output_type": "display_data"
    },
    {
     "name": "stdout",
     "output_type": "stream",
     "text": [
      "Input the initial angle in degrees: 2\n",
      "Input the initial velocity in metres/second: 2\n",
      "The horizontal distance at which the bird lands is 1.83m.\n",
      "You missed the target completely! Try again.\n",
      "Play again? no\n",
      "Thank you for playing.\n"
     ]
    }
   ],
   "source": [
    "############################################\n",
    "###              Section 1               ###\n",
    "############################################\n",
    "\n",
    "g= 9.81 #Defining gravitational acceleration.\n",
    "dt= 0.0001 #Defining the timestep. \n",
    "x0= 0\n",
    "t= 0\n",
    "target_mass= 100\n",
    "bird_mass= 0.1\n",
    "\n",
    "#By defining these outputs as a function, I can just call this function later on in the code to display the\n",
    "#different outputs needed.\n",
    "def outputs (y, mag_momentum, impulse, Ta, Tr):\n",
    "    print(\"The height of the impact point is {0:0.2f}m.\".format(y))\n",
    "    print(\"The bird's momentum is {0:0.2f}kgm/s.\".format(mag_momentum))\n",
    "    print(\"The total impulse delivered is {0:0.2f}Ns.\".format(impulse))\n",
    "    print(\"The total applied torque is {0:0.2f}N.\".format(Ta))\n",
    "    print(\"The total magnitude of the restoring torque {0:0.2f}N.\".format(Tr))\n",
    "    return\n",
    "    \n",
    "\n",
    "############################################\n",
    "###              Section 2               ###\n",
    "############################################\n",
    "\n",
    "Play= True #Setting up a conditional that allows multiple attempts at the game.\n",
    "while Play == True: #The whole loop will only run whilst Play is set to equal True, when Play is False, the game is not run and the output message (at the bottom) is displayed.\n",
    "    collision= False #Defining the collision parameter which can be used to exit the loop once the collision occurs.\n",
    "    win= False #Defining the win parameter which can be used to exit the loop once the user wins the game.\n",
    "    while collision == False and win == False:\n",
    "        #Inputting the scene onto which the game will be played out.\n",
    "        scene= canvas(width=640, height= 480, center= vector(8,5,0), range=8) #Defining the scene.\n",
    "        ground= curve(pos=[(0,0,0), (16,0,0)], color=color.green) #Defining the level ground on which the game takes place.\n",
    "        plat_height= random() #Randomising a platform height between 0 and 1.\n",
    "        target_x= (5+random()*10) #Using the random() function to randomise the hoirzontal position that the target is placed.\n",
    "        #Inputting objects in the scene needed to play the game.\n",
    "        platform = box(pos=vector(0,(plat_height/2),0), length= 0.5, width= 0.5, height= plat_height)\n",
    "        target= box(pos=vector(target_x,1,0), length= 0.5, width= 0.5, height= 2, color= color.blue)\n",
    "        bird= sphere(pos=vector(0, (plat_height+0.3),0), radius=0.3, color=color.red, make_trail= True, trail_type= \"points\", interval= 20)\n",
    "        y0= plat_height+0.3\n",
    "        label_start= label(pos=vector(8,8,0), text= \"Please enter the values for the angle of projection and velocity for the bird.\", space= 30, height= 16, color=color.green)\n",
    "        label_speech= label(pos=bird.pos, text= 'Launch me at that wall over there!', xoffset= 50, yoffset= 70, space= 30, height= 16)\n",
    "        label_hit= label(pos=vector(target_x,6,0), text= \"The bird has hit the target!\", space= 30, height= 16)\n",
    "        label_nothit= label(pos=vector(target_x,6,0), text= \"The bird has not hit the target!\",space= 30, height= 16)\n",
    "        label_topple= label(pos=vector(target_x,4,0), text= \"The bird has hit the target with enough momentum to topple it!\",space= 30, height= 16)\n",
    "        label_nottopple= label(pos=vector(target_x,4,0), text= \"The bird has not hit the target with enough momentum to topple it!\",space= 30, height= 16)\n",
    "        label_won= label(pos=vector(target_x,-2,0), text= \"You won, well done!\",space= 30, height= 16)\n",
    "        label_lost= label(pos=vector(target_x,-2,0), text= \"You failed!\",space= 30, height= 16)\n",
    "        label_playagain= label(pos=vector(target_x,-4,0), text= \"Please enter below if you'd like to play again.\",space= 30, height= 16)\n",
    "        label_position= label(pos=vector(bird.pos),text=bird.pos, yoffset= -20,space=30,height=16, color=color.cyan)\n",
    "        label_start.visible= label_speech.visible= True\n",
    "        label_hit.visible=label_nothit.visible=label_topple.visible=label_nottopple.visible=label_won.visible=label_lost.visible= label_playagain.visible= False\n",
    "        \n",
    "############################################\n",
    "###              Section 3               ###\n",
    "############################################\n",
    "\n",
    "        # Following code is adapted from 19014831's submission for PHAS0007 Session 8.\n",
    "        scene.waitfor(\"redraw\") #Draws the scene before the values are entered.\n",
    "        dtheta= float(input(\"Input the initial angle in degrees: \"))\n",
    "        theta= np.radians (dtheta) #Translates the inputted angle from degrees into radians.\n",
    "        v0= float(input(\"Input the initial velocity in metres/second: \"))\n",
    "        p_x= bird_mass*v0*np.cos(theta) #Defining the x-component of the momentum using the formula in the Final Assessment Script (Dash, 2019)\n",
    "        p_y= bird_mass*v0*np.sin(theta)- (bird_mass*g*t) #Defining the y-component of the momentum using the formula in the Final Assessment Script (Dash, 2019)\n",
    "        momentum= vector(p_x,p_y,0)\n",
    "        momentum_arrow= arrow(pos=bird.pos, axis=vector(p_x,p_y,0), shaftwidth=0.05, color=color.green)\n",
    "        scene.waitfor(\"redraw\")\n",
    "        scene.follow(bird)\n",
    "        x=0\n",
    "        y=0\n",
    "        \n",
    "############################################\n",
    "###              Section 4               ###\n",
    "############################################      \n",
    "        \n",
    "        while y>=0:\n",
    "            label_position.pos=bird.pos\n",
    "            label_position.text=bird.pos\n",
    "            if(target_x-0.55) <= bird.pos.x <= (target_x+0.25) and bird.pos.y <= 2:\n",
    "                t= 0\n",
    "                y= bird.pos.y\n",
    "                delta_t= 0.01 \n",
    "                Tr= (target_mass*g*0.25) #Calculating the restoring torque.\n",
    "                Fa= momentum/0.01 #Calculating the force applied. \n",
    "                impulse= mag(Fa*delta_t) #Calculating the impulse.\n",
    "                da= vector((target_x-0.5), bird.pos.y, 0) #Calculating the distance from the assumed rotational point of the target to the impact point of the bird..\n",
    "                Ta= mag(cross(Fa,da)) #Calculating the total applied torque.\n",
    "                mag_momentum= mag(momentum) #Calculating the magnitude of the momentum.\n",
    "                collision= True\n",
    "                label_hit.visible= True\n",
    "                label_start.visible=label_speech.visible=label_nothit.visible=label_topple.visible=label_nottopple.visible=label_won.visible=label_lost.visible=label_playagain.visible= False\n",
    "\n",
    "############################################\n",
    "###              Section 5               ###\n",
    "############################################               \n",
    "                \n",
    "                if Ta > Tr:\n",
    "                    label_hit.visible=label_topple.visible=label_won.visible=label_playagain.visible= True\n",
    "                    label_start.visible=label_speech.visible=label_nothit.visible=label_nottopple.visible=label_lost.visible= False\n",
    "                    while y >= 0.3:\n",
    "                        rate (1000)\n",
    "                        y= y - (0.5*g*(t**2)) #Decreasing the height of the ball using Classical Mechanics formula.\n",
    "                        bird.pos = vector(x,y,0)\n",
    "                        p_y= -bird_mass*g*t #Calcularting the updated momentum of the ball as it falls.\n",
    "                        momentum_arrow.axis= vector(0,p_y,0)\n",
    "                        momentum_arrow.pos= bird.pos\n",
    "                        label_position.pos=bird.pos\n",
    "                        label_position.text=bird.pos\n",
    "                        if target.pos.y >= 0.25:\n",
    "                            rate (1000)\n",
    "                            t=t+dt\n",
    "                            target.rotate(angle=-t, axis=vector(0,0,1), origin=vector((target_x+0.25),0,0))\n",
    "                    outputs(y, mag_momentum, impulse, Ta, Tr)\n",
    "                    print(\"Target toppled, you win!\")\n",
    "                    label_start.visible=label_speech.visible=label_nothit.visible=label_nottopple.visible=label_lost.visible=label_hit.visible=label_topple.visible=label_won.visible=label_playagain.visible= False\n",
    "                    break\n",
    "                else:\n",
    "                    while y>= 0.3:\n",
    "                        t=t+dt\n",
    "                        rate (1000)\n",
    "                        y= y-(0.5*g*(t**2))\n",
    "                        bird.pos= vector (x,y,0)\n",
    "                        p_y= -bird_mass*g*t\n",
    "                        momentum_arrow.axis= vector (0,p_y,0)\n",
    "                        momentum_arrow.pos= bird.pos\n",
    "                        label_position.pos=bird.pos\n",
    "                        label_position.text=bird.pos\n",
    "                    outputs(y, mag_momentum, impulse, Ta, Tr)\n",
    "                    print(\"Target not toppled! Try again.\")\n",
    "                    break\n",
    "                    \n",
    "############################################\n",
    "###              Section 6               ###\n",
    "############################################                     \n",
    "                    \n",
    "            else:\n",
    "                t=t+dt\n",
    "                rate(1000)\n",
    "                x=x0+(v0*t*np.cos(theta)) #Formula for the horizontal displacement as a function of time (Dash, 2019).\n",
    "                y=y0+(v0*t*np.sin(theta))- (bird_mass*g*(t**2)) #Formula for the vertical displacement as a function of time (Dash, 2019).\n",
    "                bird.pos= vector(x,y,0) #Updating the position vector of the bird after the new horizontal and vertical components have been found.\n",
    "                momentum_arrow.pos= bird.pos\n",
    "              \n",
    "                \n",
    "                \n",
    "\n",
    "############################################\n",
    "###              Section 7               ###\n",
    "############################################\n",
    "        \n",
    "        if win == False and collision == False:\n",
    "            distance= bird.pos.x\n",
    "            print (\"The horizontal distance at which the bird lands is {0:0.2f}m.\". format(distance))\n",
    "            print (\"You missed the target completely! Try again.\")\n",
    "            label_playagain.visible= label_start.visible=label_speech.visible=label_nothit.visible=label_nottopple.visible=label_lost.visible=label_hit.visible=label_topple.visible=label_won.visible= False\n",
    "        Play_again= input (\"Play again? \") #Asks the user whether they'd like to play again.\n",
    "        Yes= {'Yes', 'Yeah', 'Ye', 'yes', 'yeah', 'ye', 'Y', 'y'}\n",
    "        if Play_again in Yes: \n",
    "            Play = True #If the user enters any of the words specified as 'Yes', the game will iterate and reset and the user will be able to play again.\n",
    "        else:\n",
    "            Play = False #If the user types in anything other than the words specified in 'Yes', the game ends.\n",
    "            print (\"Thank you for playing.\")  \n",
    "            break"
   ]
  },
  {
   "cell_type": "markdown",
   "metadata": {},
   "source": [
    "## Code Explanation\n",
    "\n",
    "In order to explain the code above, I have split the code up into different **Sections**.\n",
    "\n",
    "### Section 1\n",
    "\n",
    "In section 1 I simply defined variables that will be referenced throughout the code. These global variables were referenced outside any `while`, `if` or `else` statements as I didn't require them to be defined again after every iteration, i.e the values would not be updated and they were fixed values therefore they can just be defined outside any loops. Furthermore, I also defined a function as `outputs`, this function contains all of the output messages needed when there is a collision (whether the target topples or not)- by making this function it means that I don't need to waste space by writing the print statements twice in two different blocks of code, instead I can call on this function and save space, making my code more efficient. I call on this function in section 5.\n",
    "\n",
    "### Section 2\n",
    "\n",
    "Section 2 is mainly setting up the scene and on which the game will be played out. First of all, I define the variable **Play** and set it equal to `True`. By doing this, it means that as long as `Play == True` the following loop may be entered, and the game can be played as many times as possible. Within the first while loop, I define two other variables, **collision** and **win** and set them both equal to `False` and create while loop which will only be iterated as long as **win** and **collision** are both still set to `False`. This means that further along in the code if the user enters a suitable launch angle and initial velocity and the bird collides with the target, this loop can be broken by setting `collision = True`; similarly, if the user wins by toppling the target over, the loop can be exited by setting `win = True`. After this, I simply set up the scene onto which the game will be played out by defining the **ground**, **platform**, **target** and **bird** objects. I also proceed to define various labels which will show up in different parts of the game play (Help, n.d.). For example, the `label_start` is set to be visible at the start, and other labels such as the `label_hit` are set to be invisible and will be visible later on in the code in **Section 4**.\n",
    "\n",
    "### Section 3\n",
    "\n",
    "Section 3 begins by using `scene.waitfor(\"redraw\")` (Glowscript, n.d), this will redraw the canvas before proceeding with the code. Essentially, this is the function which allows the player to see the target relative to the bird height before judging the initial angle and speed needed to topple the target. The following lines prompt the user to enter the initial angle in degrees (which is converted into radians using the `np.radians` function in the line below) followed by the initial velocity of projection of the bird. Furthermore, the x-component and y-component of the momentum is also calculated using equations (8) and (9).\n",
    "\n",
    "$$ P_x = (M_{bird}v_0cos\\theta)^2\\qquad(8)$$\n",
    "\n",
    "$$ P_y = (M_{bird}v_0sin\\theta-M_{bird}gt)^2\\qquad(9)$$\n",
    "\n",
    "The momentum vector is then also defined along with the momentum arrow which is updated as the bird moves so that the position of the arrow is always set to be the same as the position of the bird, and the axis of the arrow is set to be the momentum vector. Finally, I initialise values for x and y to be used in the next sections.\n",
    "\n",
    "\n",
    "### Section 4\n",
    "\n",
    "In section 4, I first create a while loop which will be iterated as long as the vertical position of the bird is above 0, i.e this loop will only be exited when the bird hits the ground. Within the loop I updated the position and text of the `label_position` which displays the position vector of the bird during its flight. It needed to be set here so that it would be updated as long as the bird is in motion, up until the moment it comes to rest on the ground- at which point this loop is exited and the values are not updated anymore. Furthermore, I also define a nested `if` statement within this while loop. This `if` statement has the parameters such that it will only be entered if the ball is within the specified dimensions of the target- this is my way of coding the hit detection from the bird on the target. Within the `if` loop I initialise **t** and set the vertical position of the bird to `bird.pos.y` meaning that the vertical component of the position vector is always updated accordingly as the bird moves through the air. I also specify the $\\Delta t$ which is the contact time needed to calculate the impulse. I then proceed to calculate the values for the: restoring torque; force applied; impulse; distance from the rotation point of the target to the point of impact on target; applied torque and finally the magnitude of momentum using the equations specified in the **Introduction** section. Here, I also set `collision= True` meaning that the first while loop is exited and so the while loop in **Section 2** doesn't keep iterating. I have also set the `label_hit` to be visible, whilst all other labels remain invisible.\n",
    "\n",
    "### Section 5\n",
    "\n",
    "In section 5, I have defined another `if` statement which is nested within the `if` statement in **Section 4**. This `if` statement will only be entered if the **applied torque > restoring torque**. Within this `if` statement I firstly define the labels that I want to be visible throughout the duration of the iterations of the `if` statement. Then there is a nested `while` loop within the `if` statement and this addresses the falling of the ball when the target is hit- therefore, this while loop is run until the ball hits the ground. The reason why the while loop is run only while **y >= 0.3** is due to the radius of the ball so that the while loop is exited when the ball makes contact with the ground, not when the ball goes half way into the ground and the centre reaches 0- which is what would happen if the loop was run while **y >= 0**. In the first line of the while loop I define a rate- setting this rate equal to 1000 will mean that in 1 second the loop can be run a maximum of 1000 times. I then update the vertical component of the position vector as a function of time using equation (10).\n",
    "\n",
    "$$ s = vt - \\frac{1}{2} at^2\\qquad(10)$$\n",
    "\n",
    "Also, I calculate the vertical component of momentum of the ball as it falls and proceed to update the vertical component of the momentum. For this, we use the same equation as equation (10), however the first part becomes 0, meaning that the calculation for the vertical component of momentum simply becomes equation (11). \n",
    "\n",
    "$$ P_y = -(M_{bird}gt)^2\\qquad(11)$$\n",
    "\n",
    "As I have defined the axis of the momentum arrow to be a vector (0,p_y,0) in the next line, the size of momentum arrow will depend on the downwards vertical momentum obtained by the bird. I also assign the momentum arrow's position vector to be the same as the position vector of the bird, so that the arrow continues to always follow the bird. After this I have just updated the position and text of the label illustrating the position vector of the bird so that the label is updated in each iteration and follows the bird, displaying its position vector as it falls after the collision. \n",
    "\n",
    "I then define a nested `if` statement which deals with the toppling of the wall after the bird has collided with enough momentum to topple the wall. The condition for the `if` statement to run is that the vertical component of the position of the target is more than or equal to 0.25- as the position vector of the target is placed by python at its geometric centre, and the width of the target is 0.5, by setting **y >= 0.25** it ensures that the loop will keep iterating until the target is completely horizontal, at this point the target has fallen and the loop is exited. I define the rate again, along with the formula **t= t + dt**, by doing this it means that the variable **t** will be updated by 0.0001 each iteration and by setting the rotation angle to **-t** (as a positive **t** would result in an anti-clockwise rotation). By setting the axis and origin of the rotation to (0,0,1) and ((target_x+0.25),0,0) respectively, this ensures that the rotation is around the bottom right hand corner of the target- as it should be. I then exit the `if target.pos.y >= 0.25:` and `while y>= 0.3:` statements and continue to code under the `if Ta > Tr:` statement. Here I call on the function outlined in section 1 which includes all of the print statements that are required and I output the required, values regarding the collision of the bird with the target- outlined in the **Introduction** section. I also include a print statement telling the user that they have won the game and remove any labels that were previously displayed on the scene. Furthermore, by using the `break` function, it will break this loop function and continue to run the code- without this function after multiple attempts at the game the code would begin to get mixed up and not run as smoothly and the bird would sometimes not fall simultaneously with the wall as it currently does, therefore by implementing it I have eradicated this problem.\n",
    "\n",
    "The next `else` statement regards is referring to the `if Ta > Tr:` statement placed above. Essentially, this part of the code tells python that if the **applied torque < restoring torque**, the ball should just fall, whilst the wall will not topple. The code that is run after this `else` statement is exactly the same as the code run under the `while y>= 0.3:` statement to animate the falling of the bird which is explained further above in **Section 5**. At the end of the `else` statement I call on the function outlined in section 1 which includes all of the print statements that are required, and I output the required values regarding the collision of the bird with the target as previously explained. I also include a print statement telling the user that they have failed to win the game and remove any labels that were previously displayed on the scene. Furthermore, I have also used the `break` function here for the same reasons outlined in the previous paragraph.\n",
    "\n",
    "### Section 6\n",
    "\n",
    "Within section 6 I implement an `else` statement which is related to the `if target.pos.y >= 0.25:` statement in **Section 4**. This `else` statement defines the motion of the bird for any point on the canvas as long as it is not in contact with the target. The `else` statement includes a rate and a timestep so that the motion of the ball during its flight may be displayed smoothly. The vertical component of the momentum of the ball is also defined using equation (11) similarly to **Section 5**. Furthermore, equations (1) and (2) are used to update the horizontal and vertical components of the position vector of the ball with each iteration of the loop that is made; and the position vector of the bird is updated according to these new horizontal and vertical components- this is what makes it seem as if the bird is flying through air in a parabolic motion. Finally, I have set the position of the momentum arrow equal to the position of the bird so that the arrow always follows the bird.\n",
    "\n",
    "### Section 7\n",
    "\n",
    "Section 7 is the final section of code and it addresses the case in which there is no collision and therefore the user doesn't win. I define the **distance** variable as the final bird position and then output the horizontal distance at which the bird lands as required. I then let the user know that they have missed the target completely by a print statement, and I set all of the labels to be invisible, apart from the label illustrating the position vector, which stays visible throughout the whole animation.\n",
    "\n",
    "Finally, I define the variable **Play_again** to be defined by the user and it prompts an input from the user. If the user enters any of the following words: \"Yes\", \"Yeah\", \"Ye\", \"yes\", \"yeah\", \"ye\", \"Y\", \"y\", this will keep `Play = True` therefore the game repeats from the beginning and runs from **Section 2**. If however, the user enters anything which is not part of the group **Yes**, then `Play = False` and the loop is broken therefore there are no more iteration and the game ends and prints a message letting the user know that the game has ended and thanks the user for playing. There is also a `break` function here to make sure that when `Play = False`, there is no more iterations of the game- without this, sometimes Python still ran the game after a few iterations had already been played."
   ]
  },
  {
   "cell_type": "markdown",
   "metadata": {},
   "source": [
    "## Conclusion & Discussion\n",
    "\n",
    "In conclusion, I believe my code has achieved the aims outlined in the **Introduction** section. However, I do believe there could be improvements made to the game and also to implement more real-life physics into the game.\n",
    "\n",
    "First of all, in my code the toppling of the target is achieved using a timestep style in which there is an increment of time added to the total time (**t**) within each iteration and the target rotates by the value of **t** each time. This was an ad hoc approach and involved no real physics in the toppling of the wall. Therefore, this could be improved by programming the actual physics of the rotating wall by modelling the rotation of the target based on the applied torque received by the wall from the object- the greater the applied torque, the faster the target rotated, the lower the applied torque, the slower the wall rotated. In python, this could be programmed using an `if` statement where different rotation speeds will be displayed depending on the strength of the applied torque from the bird- for example, if the applied torque is greater 20N then the toppling of the wall will be faster than if the applied torque is less than 20N. Also for the rotation we could use the equations of circular motion to model the top of the target rotating at an a specific angular velocity. This can be achieved using equation (12).\n",
    "\n",
    "$$\\omega = \\frac{v}{r} \\qquad (12) $$\n",
    "\n",
    "Also, I would implement an `if` statement where, if the applied torque was only a certain percentage higher than the restoring torque, for example if **applied torque = 1.10 x restoring torque**, the target will simply wobble instead of completely toppling. This would make the game more physically accurate as currently, the criteria needed to topple the target is simply that the applied torque should just be greater than the restoring torque; therefore even if applied torque= restoring torque + 1, the object topples at the same speed as if the applied torque = 2 x restoring torque which is physically inaccurate and unrealistic.\n",
    "\n",
    "Furthermore, air resistance could be incorporated in Python by simply implementing a coefficient for the speed of the ball after it has launched, so that there is more air resistance as speed increases which is physically more accurate.\n",
    "\n",
    "Finally, currently there is an assumption that the collision is an elastic one. However, in reality, the collision would be inelastic and not all of the energy would be transferred from the ball to the target. As a result, the bird would rebound from the target and instead of just falling vertically downwards, it would fall down with an additional negative horizontal component of velocity. This would be implemented in Python by using Newton's Third Law which states that \"Every action has an equal and opposite reaction\". As a result, the force vector applied **Fa** would be acting on the wall, but also it would act on the bird in the opposite direction. By using the relationship shown in equations (13) and (14), we can work out the velocity vector acting on the bird after the collision and so we can model the bird's motion after the collision.\n",
    "\n",
    "$$F = \\frac{\\Delta P}{\\Delta t} \\qquad (13) $$\n",
    "\n",
    "And therefore:\n",
    "\n",
    "$$F = \\frac{m\\Delta v }{\\Delta t} \\qquad (14) $$\n",
    "\n",
    "By implementing the improvements mentioned above, I believe my code will be more accurate in terms of the physics used, and also this will mean that the gaming experience would be much more enjoyable and realistic."
   ]
  },
  {
   "cell_type": "markdown",
   "metadata": {},
   "source": [
    "## References\n",
    "\n",
    "- Dash, L, 2019. _\"PHAS0007: Final assignment 2019/20\"_ (December 9 2019). UCL [Accessed January 2020].\n",
    "\n",
    "- Glowscript, n.d. _Limiting the animation rate_. [Online].  Available at: https://www.glowscript.org/docs/GlowScriptDocs/rate.html [Accessed January 2020].\n",
    "\n",
    "- Programiz, n.d. _Python break and continue_. [Online]. Available at: https://www.programiz.com/python-programming/break-continue [Accessed January 2020].\n",
    "\n",
    "- Help, V., n.d. _Label_. [Online] Available at: https://vpython.org/contents/docs/label.html. [Accessed January 2020].\n",
    "\n",
    "\n"
   ]
  },
  {
   "cell_type": "code",
   "execution_count": null,
   "metadata": {},
   "outputs": [],
   "source": []
  },
  {
   "cell_type": "code",
   "execution_count": null,
   "metadata": {},
   "outputs": [],
   "source": []
  }
 ],
 "metadata": {
  "kernelspec": {
   "display_name": "Python 3",
   "language": "python",
   "name": "python3"
  },
  "language_info": {
   "codemirror_mode": {
    "name": "ipython",
    "version": 3
   },
   "file_extension": ".py",
   "mimetype": "text/x-python",
   "name": "python",
   "nbconvert_exporter": "python",
   "pygments_lexer": "ipython3",
   "version": "3.7.4"
  }
 },
 "nbformat": 4,
 "nbformat_minor": 2
}
